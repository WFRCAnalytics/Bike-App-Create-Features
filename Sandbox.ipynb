{
 "cells": [
  {
   "cell_type": "code",
   "execution_count": 1,
   "metadata": {},
   "outputs": [],
   "source": [
    "import arcpy\n",
    "from arcpy import env\n",
    "import os\n",
    "import numpy as np\n",
    "from arcgis import GIS\n",
    "from arcgis.features import GeoAccessor\n",
    "from arcgis.features import GeoSeriesAccessor\n",
    "import pandas as pd\n",
    "\n",
    "arcpy.env.overwriteOutput = True\n",
    "arcpy.env.parallelProcessingFactor = \"90%\"\n",
    "\n",
    "# show all columns\n",
    "pd.options.display.max_columns = None\n",
    "\n",
    "# pd.pivot_table(df, values='a', index='b', columns='c', aggfunc='sum', fill_value=0)\n",
    "# pd.DataFrame.spatial.from_featureclass(???)  \n",
    "# df.spatial.to_featureclass(location=???,sanitize_columns=False)  \n",
    "\n",
    "# gsa = arcgis.features.GeoSeriesAccessor(df['SHAPE'])  \n",
    "# df['AREA'] = gsa.area  # KNOW YOUR UNITS"
   ]
  },
  {
   "cell_type": "code",
   "execution_count": 2,
   "metadata": {},
   "outputs": [],
   "source": [
    "# fill NA values in Spatially enabled dataframes (ignores SHAPE column)\n",
    "def fill_na_sedf(df_with_shape_column, fill_value=0):\n",
    "    if 'SHAPE' in list(df_with_shape_column.columns):\n",
    "        df = df_with_shape_column.copy()\n",
    "        shape_column = df['SHAPE'].copy()\n",
    "        del df['SHAPE']\n",
    "        return df.fillna(fill_value).merge(shape_column,left_index=True, right_index=True, how='inner')\n",
    "    else:\n",
    "        raise Exception(\"Dataframe does not include 'SHAPE' column\")"
   ]
  },
  {
   "cell_type": "code",
   "execution_count": 3,
   "metadata": {},
   "outputs": [],
   "source": [
    "outputs = ['.\\\\Outputs', \"scratch2.gdb\", 'results.gdb']\n",
    "\n",
    "if not os.path.exists(outputs[0]):\n",
    "    os.makedirs(outputs[0])\n",
    "\n",
    "gdb = os.path.join(outputs[0], outputs[1])\n",
    "gdb2 = os.path.join(outputs[0], outputs[2])\n",
    "\n",
    "if not arcpy.Exists(gdb):\n",
    "    arcpy.CreateFileGDB_management(outputs[0], outputs[1])\n",
    "\n",
    "if not arcpy.Exists(gdb2):\n",
    "    arcpy.CreateFileGDB_management(outputs[0], outputs[2])"
   ]
  },
  {
   "cell_type": "code",
   "execution_count": 4,
   "metadata": {},
   "outputs": [],
   "source": [
    "lanes = r'E:\\Projects\\Bike-App-Create-Features\\Inputs\\Lanes.shp'\n",
    "aadt = r'E:\\Projects\\Bike-App-Create-Features\\Inputs\\AADT_Unrounded.shp'\n",
    "roads = 'https://services1.arcgis.com/99lidPhWCzftIe9K/ArcGIS/rest/services/UtahRoads/FeatureServer/0'"
   ]
  },
  {
   "cell_type": "code",
   "execution_count": 5,
   "metadata": {},
   "outputs": [],
   "source": [
    "roads_lyr = arcpy.MakeFeatureLayer_management(roads, 'roads_lyr', where_clause=\"\"\" (((BIKE_L IS NOT NULL AND BIKE_L NOT IN ('', ' ')) OR \n",
    "                                                                                     (BIKE_R IS NOT NULL AND BIKE_R NOT IN ('', ' '))) OR \n",
    "                                                                                     ((BIKE_PLN_L IS NOT NULL AND BIKE_PLN_L NOT IN ('', ' ')) OR \n",
    "                                                                                     (BIKE_PLN_R IS NOT NULL AND BIKE_PLN_R NOT IN ('', ' ')))) \"\"\")\n",
    "\n",
    "roads_export = arcpy.conversion.ExportFeatures(roads_lyr, os.path.join(gdb, 'roads'))\n",
    "arcpy.management.CalculateField(roads_export, 'UID', \"!OBJECTID!\", \"PYTHON3\")\n",
    "roads_df = pd.DataFrame.spatial.from_featureclass(roads_export[0])  "
   ]
  },
  {
   "cell_type": "code",
   "execution_count": 6,
   "metadata": {},
   "outputs": [],
   "source": [
    "aadt_lyr = arcpy.MakeFeatureLayer_management(aadt, 'aadt_lyr', where_clause=\"\"\" RT_Type <> 'State Route' \"\"\")"
   ]
  },
  {
   "cell_type": "code",
   "execution_count": 7,
   "metadata": {},
   "outputs": [],
   "source": [
    "# buffer lanes and aadt\n",
    "lanes_buffer = arcpy.analysis.Buffer(lanes, os.path.join(gdb, 'lanes_buffer'), \"8 Feet\", \"FULL\", \"ROUND\")\n",
    "aadt_buffer = arcpy.analysis.Buffer(aadt_lyr, os.path.join(gdb, 'aadt_buffer'), \"8 Feet\", \"FULL\", \"ROUND\")"
   ]
  },
  {
   "cell_type": "code",
   "execution_count": 8,
   "metadata": {},
   "outputs": [],
   "source": [
    "# spatial join roads with lanes\n",
    "\n",
    "# use spatial join to summarize market value & acreage\n",
    "target_features = roads_export\n",
    "join_features = lanes_buffer\n",
    "output_features = os.path.join(gdb, \"lanes_spatial_join\")\n",
    "\n",
    "fieldmappings = arcpy.FieldMappings()\n",
    "fieldmappings.addTable(target_features)\n",
    "fieldmappings.addTable(join_features)\n",
    "\n",
    "# total market value\n",
    "fieldindex = fieldmappings.findFieldMapIndex('OMS_LANES')\n",
    "fieldmap = fieldmappings.getFieldMap(fieldindex)\n",
    "fieldmap.mergeRule = 'Max'\n",
    "fieldmappings.replaceFieldMap(fieldindex, fieldmap)\n",
    "\n",
    "# run the spatial join, use 'Join_Count' for number of units\n",
    "sj = arcpy.SpatialJoin_analysis(target_features, join_features, output_features,'JOIN_ONE_TO_ONE', \"KEEP_ALL\", fieldmappings, \"HAVE_THEIR_CENTER_IN\")\n",
    "lanes_sj_df = pd.DataFrame.spatial.from_featureclass(sj[0])[['UID', 'OMS_LANES']].copy() "
   ]
  },
  {
   "cell_type": "code",
   "execution_count": 9,
   "metadata": {},
   "outputs": [
    {
     "data": {
      "text/plain": [
       "'e:\\\\Projects\\\\Bike-App-Create-Features\\\\Outputs\\\\scratch2.gdb\\\\test'"
      ]
     },
     "execution_count": 9,
     "metadata": {},
     "output_type": "execute_result"
    }
   ],
   "source": [
    "# spatial join roads with aadt\n",
    "\n",
    "# use spatial join to summarize market value & acreage\n",
    "target_features = roads_export\n",
    "join_features = aadt_buffer\n",
    "output_features = os.path.join(gdb, \"aadt_spatial_join\")\n",
    "\n",
    "fieldmappings = arcpy.FieldMappings()\n",
    "fieldmappings.addTable(target_features)\n",
    "fieldmappings.addTable(join_features)\n",
    "\n",
    "# total market value\n",
    "fieldindex = fieldmappings.findFieldMapIndex('AADT2023')\n",
    "fieldmap = fieldmappings.getFieldMap(fieldindex)\n",
    "fieldmap.mergeRule = 'Max'\n",
    "fieldmappings.replaceFieldMap(fieldindex, fieldmap)\n",
    "\n",
    "# run the spatial join, use 'Join_Count' for number of units\n",
    "sj = arcpy.SpatialJoin_analysis(target_features, join_features, output_features,'JOIN_ONE_TO_ONE', \"KEEP_ALL\", fieldmappings, \"HAVE_THEIR_CENTER_IN\")\n",
    "aadt_sj_df = pd.DataFrame.spatial.from_featureclass(sj[0])[['UID', 'AADT2023']].copy() \n",
    "\n",
    "pd.DataFrame.spatial.from_featureclass(sj[0]).spatial.to_featureclass(location=os.path.join(gdb, 'test'), sanitize_columns=False) "
   ]
  },
  {
   "cell_type": "markdown",
   "metadata": {},
   "source": [
    "INdustrial??? truck traffic"
   ]
  },
  {
   "cell_type": "code",
   "execution_count": 10,
   "metadata": {},
   "outputs": [
    {
     "data": {
      "text/plain": [
       "UID         string[python]\n",
       "AADT2023             Int32\n",
       "dtype: object"
      ]
     },
     "execution_count": 10,
     "metadata": {},
     "output_type": "execute_result"
    }
   ],
   "source": [
    "aadt_sj_df.dtypes"
   ]
  },
  {
   "cell_type": "code",
   "execution_count": 11,
   "metadata": {},
   "outputs": [
    {
     "data": {
      "text/plain": [
       "Index(['OBJECTID', 'STATUS', 'CARTOCODE', 'FULLNAME', 'FROMADDR_L', 'TOADDR_L',\n",
       "       'FROMADDR_R', 'TOADDR_R', 'PARITY_L', 'PARITY_R', 'PREDIR', 'NAME',\n",
       "       'POSTTYPE', 'POSTDIR', 'AN_NAME', 'AN_POSTDIR', 'A1_PREDIR', 'A1_NAME',\n",
       "       'A1_POSTTYPE', 'A1_POSTDIR', 'A2_PREDIR', 'A2_NAME', 'A2_POSTTYPE',\n",
       "       'A2_POSTDIR', 'QUADRANT_L', 'QUADRANT_R', 'STATE_L', 'STATE_R',\n",
       "       'COUNTY_L', 'COUNTY_R', 'ADDRSYS_L', 'ADDRSYS_R', 'POSTCOMM_L',\n",
       "       'POSTCOMM_R', 'ZIPCODE_L', 'ZIPCODE_R', 'INCMUNI_L', 'INCMUNI_R',\n",
       "       'UNINCCOM_L', 'UNINCCOM_R', 'NBRHDCOM_L', 'NBRHDCOM_R', 'ER_CAD_ZONES',\n",
       "       'ESN_L', 'ESN_R', 'MSAGCOMM_L', 'MSAGCOMM_R', 'ONEWAY', 'VERT_LEVEL',\n",
       "       'SPEED_LMT', 'ACCESSCODE', 'DOT_HWYNAM', 'DOT_RTNAME', 'DOT_RTPART',\n",
       "       'DOT_F_MILE', 'DOT_T_MILE', 'DOT_FCLASS', 'DOT_SRFTYP', 'DOT_CLASS',\n",
       "       'DOT_OWN_L', 'DOT_OWN_R', 'DOT_AADT', 'DOT_AADTYR', 'DOT_THRULANES',\n",
       "       'BIKE_L', 'BIKE_R', 'BIKE_PLN_L', 'BIKE_PLN_R', 'BIKE_REGPR',\n",
       "       'BIKE_NOTES', 'UNIQUE_ID', 'LOCAL_UID', 'UTAHRD_UID', 'SOURCE',\n",
       "       'UPDATED', 'EFFECTIVE', 'EXPIRE', 'CREATED', 'CREATOR', 'EDITOR',\n",
       "       'CUSTOMTAGS', 'GlobalID', 'TDMNET_L', 'TDMNET_R', 'PED_L', 'PED_R',\n",
       "       'UID', 'SHAPE'],\n",
       "      dtype='object')"
      ]
     },
     "execution_count": 11,
     "metadata": {},
     "output_type": "execute_result"
    }
   ],
   "source": [
    "roads_df.columns"
   ]
  },
  {
   "cell_type": "markdown",
   "metadata": {},
   "source": [
    "# bike facilities\n",
    "\n",
    "| Code | Description |\n",
    "|------|-----------------------------------------------|\n",
    "| 1A   | 1A Cycle track, at-grade, protected with parking |\n",
    "| 1B   | 1B Cycle track, protected with barrier |\n",
    "| 1C   | 1C Cycle track, raised and curb separated (may be multiuse with peds) |\n",
    "| 1D   | 1D Cycle track, bi-directional |\n",
    "| 1E   | 1E Cycle track, center-running |\n",
    "| 2A   | 2A Buffered bike lane |\n",
    "| 2B   | 2B Bike lane |\n",
    "| 2C   | 2C Bi-directional buffered bike lane |\n",
    "| 3A   | 3A Shoulder bikeway |\n",
    "| 3B   | 3B Marked shared roadway |\n",
    "| 3C   | 3C Signed shared roadway |\n",
    "| 1    | 1 Cycle track, unspecified |\n",
    "| 2    | 2 Bike lane, unspecified |\n",
    "| 3    | 3 Other bike route, unspecified |\n",
    "| UN   | Unknown Category |\n"
   ]
  },
  {
   "cell_type": "markdown",
   "metadata": {},
   "source": [
    "# Cartocodes\t\n",
    "| #  | Category                                      |\n",
    "|----|----------------------------------------------|\n",
    "| 1  | Interstates                                 |\n",
    "| 2  | US Highways, Separated                      |\n",
    "| 3  | US Highways, Unseparated                    |\n",
    "| 4  | Major State Highways, Separated             |\n",
    "| 5  | Major State Highways, Unseparated           |\n",
    "| 6  | Other State Highways (Institutional)        |\n",
    "| 7  | Ramps, Collectors                           |\n",
    "| 8  | Major Local Roads, Paved                    |\n",
    "| 9  | Major Local Roads, Not Paved                |\n",
    "| 10 | Other Federal Aid Eligible Local Roads      |\n",
    "| 11 | Other Local, Neighborhood, Rural Roads      |\n",
    "| 12 | Other                                       |\n",
    "| 13 | Non-road feature                            |\n",
    "| 14 | Driveway                                    |\n",
    "| 15 | Proposed                                   |\n",
    "| 16 | 4WD and/or high clearance may be required  |\n",
    "| 17 | Service Access Roads                        |\n",
    "| 18 | General Access Roads                        |"
   ]
  },
  {
   "cell_type": "code",
   "execution_count": 12,
   "metadata": {},
   "outputs": [],
   "source": [
    "# identify features that don't have new values and build assumptions\n",
    "roads_df2 = roads_df.merge(aadt_sj_df, on='UID', how='left').merge(lanes_sj_df, on='UID', how='left')\n",
    "\n",
    "roads_df2.loc[roads_df2['ONEWAY'].isin(['1 One way Direction of Arc','2 One way Opposite Direction of Arc']) == False, 'LANES_ONE_DIR'] = roads_df2['OMS_LANES'] / 2\n",
    "roads_df2.loc[roads_df2['ONEWAY'].isin(['1 One way Direction of Arc','2 One way Opposite Direction of Arc']) == True, 'LANES_ONE_DIR'] = roads_df2['OMS_LANES']\n",
    "\n",
    "roads_df2 = roads_df2[['UID', 'CARTOCODE', 'NAME', 'SPEED_LMT',\n",
    "                      'DOT_AADT', 'DOT_AADTYR', 'DOT_THRULANES','BIKE_L', \n",
    "                      'BIKE_R', 'BIKE_PLN_L', 'BIKE_PLN_R', 'AADT2023', 'OMS_LANES', 'LANES_ONE_DIR', 'SHAPE']]"
   ]
  },
  {
   "cell_type": "code",
   "execution_count": 13,
   "metadata": {},
   "outputs": [
    {
     "data": {
      "text/plain": [
       "<AxesSubplot: >"
      ]
     },
     "execution_count": 13,
     "metadata": {},
     "output_type": "execute_result"
    },
    {
     "data": {
      "image/png": "[encoded data removed]",
      "text/plain": [
       "<Figure size 640x480 with 1 Axes>"
      ]
     },
     "metadata": {},
     "output_type": "display_data"
    }
   ],
   "source": [
    "roads_df2[roads_df2['AADT2023'] <= 30000]['AADT2023'].hist(bins=10)"
   ]
  },
  {
   "cell_type": "code",
   "execution_count": 14,
   "metadata": {},
   "outputs": [
    {
     "data": {
      "text/plain": [
       "<AxesSubplot: >"
      ]
     },
     "execution_count": 14,
     "metadata": {},
     "output_type": "execute_result"
    },
    {
     "data": {
      "image/png": "[encoded data removed]",
      "text/plain": [
       "<Figure size 640x480 with 1 Axes>"
      ]
     },
     "metadata": {},
     "output_type": "display_data"
    }
   ],
   "source": [
    "roads_df2['SPEED_LMT'].hist(bins=5)"
   ]
  },
  {
   "cell_type": "code",
   "execution_count": 15,
   "metadata": {},
   "outputs": [
    {
     "data": {
      "text/plain": [
       "UID              string[python]\n",
       "CARTOCODE        string[python]\n",
       "NAME             string[python]\n",
       "SPEED_LMT                 Int32\n",
       "DOT_AADT                  Int32\n",
       "DOT_AADTYR       string[python]\n",
       "DOT_THRULANES             Int32\n",
       "BIKE_L           string[python]\n",
       "BIKE_R           string[python]\n",
       "BIKE_PLN_L       string[python]\n",
       "BIKE_PLN_R       string[python]\n",
       "AADT2023                  Int32\n",
       "OMS_LANES                 Int32\n",
       "LANES_ONE_DIR           Float64\n",
       "SHAPE                  geometry\n",
       "dtype: object"
      ]
     },
     "execution_count": 15,
     "metadata": {},
     "output_type": "execute_result"
    }
   ],
   "source": [
    "# adjust data types\n",
    "roads_df2['AADT2023'] = roads_df2['AADT2023'].fillna(-9999).astype('Int32')\n",
    "roads_df2['OMS_LANES'] = roads_df2['OMS_LANES'].fillna(-9999).astype('Int32')\n",
    "roads_df2['LANES_ONE_DIR'] = roads_df2['LANES_ONE_DIR'].fillna(-9999).astype('Float64')\n",
    "roads_df2.dtypes"
   ]
  },
  {
   "cell_type": "code",
   "execution_count": 16,
   "metadata": {},
   "outputs": [
    {
     "data": {
      "text/plain": [
       "'e:\\\\Projects\\\\Bike-App-Create-Features\\\\Outputs\\\\scratch2.gdb\\\\level_of_stress'"
      ]
     },
     "execution_count": 16,
     "metadata": {},
     "output_type": "execute_result"
    }
   ],
   "source": [
    "# export\n",
    "roads_df2.spatial.to_featureclass(location=os.path.join(gdb, 'level_of_stress'), sanitize_columns=False) "
   ]
  },
  {
   "cell_type": "code",
   "execution_count": null,
   "metadata": {},
   "outputs": [],
   "source": []
  },
  {
   "cell_type": "code",
   "execution_count": null,
   "metadata": {},
   "outputs": [],
   "source": []
  }
 ],
 "metadata": {
  "kernelspec": {
   "display_name": "Python 3",
   "language": "python",
   "name": "python3"
  },
  "language_info": {
   "codemirror_mode": {
    "name": "ipython",
    "version": 3
   },
   "file_extension": ".py",
   "mimetype": "text/x-python",
   "name": "python",
   "nbconvert_exporter": "python",
   "pygments_lexer": "ipython3",
   "version": "3.11.10"
  },
  "orig_nbformat": 4
 },
 "nbformat": 4,
 "nbformat_minor": 2
}
